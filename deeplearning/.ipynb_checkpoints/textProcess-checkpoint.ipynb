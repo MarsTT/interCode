{
 "cells": [
  {
   "cell_type": "markdown",
   "metadata": {},
   "source": [
    "# 原始数据处理"
   ]
  },
  {
   "cell_type": "markdown",
   "metadata": {},
   "source": [
    "## 导入数据"
   ]
  },
  {
   "cell_type": "code",
   "execution_count": 5,
   "metadata": {
    "collapsed": true
   },
   "outputs": [],
   "source": [
    "import pandas as pd\n",
    "import jieba\n",
    "import numpy as np"
   ]
  },
  {
   "cell_type": "code",
   "execution_count": 6,
   "metadata": {},
   "outputs": [
    {
     "data": {
      "text/html": [
       "<div>\n",
       "<style>\n",
       "    .dataframe thead tr:only-child th {\n",
       "        text-align: right;\n",
       "    }\n",
       "\n",
       "    .dataframe thead th {\n",
       "        text-align: left;\n",
       "    }\n",
       "\n",
       "    .dataframe tbody tr th {\n",
       "        vertical-align: top;\n",
       "    }\n",
       "</style>\n",
       "<table border=\"1\" class=\"dataframe\">\n",
       "  <thead>\n",
       "    <tr style=\"text-align: right;\">\n",
       "      <th></th>\n",
       "      <th>content</th>\n",
       "    </tr>\n",
       "  </thead>\n",
       "  <tbody>\n",
       "    <tr>\n",
       "      <th>0</th>\n",
       "      <td>中国旅游资源概况</td>\n",
       "    </tr>\n",
       "    <tr>\n",
       "      <th>1</th>\n",
       "      <td>2016-12-11</td>\n",
       "    </tr>\n",
       "    <tr>\n",
       "      <th>2</th>\n",
       "      <td>中国旅游资源丰富，拥有壮丽的山岳河流，丰富多彩的民俗民风，奇特的动植物和数不尽的名胜古迹，...</td>\n",
       "    </tr>\n",
       "    <tr>\n",
       "      <th>3</th>\n",
       "      <td>党中央、国务院高度重视旅游业发展，把发展旅游业纳入国家战略体系，并于2009年12月1日...</td>\n",
       "    </tr>\n",
       "    <tr>\n",
       "      <th>4</th>\n",
       "      <td>经过改革开放30多年的发展，中国旅游业从小到大、由弱到强，旅游供给日渐丰富，旅游接待能力...</td>\n",
       "    </tr>\n",
       "    <tr>\n",
       "      <th>5</th>\n",
       "      <td>“十一五”时期，中国国内旅游、入境旅游、出境旅游三大市场全面繁荣，中国已成为世界第三大入...</td>\n",
       "    </tr>\n",
       "    <tr>\n",
       "      <th>6</th>\n",
       "      <td>截至2011年底，中国共发布旅游业国家标准22项、行业标准18项、地方标准200多项，标...</td>\n",
       "    </tr>\n",
       "    <tr>\n",
       "      <th>7</th>\n",
       "      <td>2008-2011年度旅游统计数据</td>\n",
       "    </tr>\n",
       "    <tr>\n",
       "      <th>8</th>\n",
       "      <td>2011年入境旅游人数13542万人次，比上年增长1.2%。其中，外国人2711万人次，...</td>\n",
       "    </tr>\n",
       "    <tr>\n",
       "      <th>9</th>\n",
       "      <td>2010年入境旅游人数13376万人次，比上年增长5.8%。其中，外国人2613万人次，...</td>\n",
       "    </tr>\n",
       "  </tbody>\n",
       "</table>\n",
       "</div>"
      ],
      "text/plain": [
       "                                             content\n",
       "0                                           中国旅游资源概况\n",
       "1                                      2016-12-11   \n",
       "2  　中国旅游资源丰富，拥有壮丽的山岳河流，丰富多彩的民俗民风，奇特的动植物和数不尽的名胜古迹，...\n",
       "3  　　党中央、国务院高度重视旅游业发展，把发展旅游业纳入国家战略体系，并于2009年12月1日...\n",
       "4  　　经过改革开放30多年的发展，中国旅游业从小到大、由弱到强，旅游供给日渐丰富，旅游接待能力...\n",
       "5  　　“十一五”时期，中国国内旅游、入境旅游、出境旅游三大市场全面繁荣，中国已成为世界第三大入...\n",
       "6  　　截至2011年底，中国共发布旅游业国家标准22项、行业标准18项、地方标准200多项，标...\n",
       "7                                　　2008-2011年度旅游统计数据\n",
       "8  　　2011年入境旅游人数13542万人次，比上年增长1.2%。其中，外国人2711万人次，...\n",
       "9  　　2010年入境旅游人数13376万人次，比上年增长5.8%。其中，外国人2613万人次，..."
      ]
     },
     "execution_count": 6,
     "metadata": {},
     "output_type": "execute_result"
    }
   ],
   "source": [
    "df = pd.read_csv('C:/Users/Mars/Desktop/july/pachong/data/data.txt',\n",
    "                 index_col=False,names=['content'])\n",
    "df = df.dropna()\n",
    "\n",
    "df.head(10)"
   ]
  },
  {
   "cell_type": "markdown",
   "metadata": {},
   "source": [
    "## 文本分词"
   ]
  },
  {
   "cell_type": "code",
   "execution_count": 7,
   "metadata": {
    "collapsed": true
   },
   "outputs": [],
   "source": [
    "import jieba.posseg as pseg"
   ]
  },
  {
   "cell_type": "code",
   "execution_count": 14,
   "metadata": {},
   "outputs": [],
   "source": [
    "content = df.content.values.tolist()\n",
    "segment=[]\n",
    "for line in content:\n",
    "    try:\n",
    "#         segs=jieba.lcut(line)\n",
    "#         for seg in segs:\n",
    "#             if len(seg)>1 and seg != '\\r\\n':\n",
    "#                 segment.append(seg)\n",
    "        segs = pseg.cut(line)\n",
    "        for w in segs:\n",
    "#             print(type(w.word),type(w.flag))\n",
    "            segment.append(w.word+'/'+w.flag)\n",
    "    except:\n",
    "        print(line)\n",
    "        continue"
   ]
  },
  {
   "cell_type": "code",
   "execution_count": 16,
   "metadata": {},
   "outputs": [],
   "source": [
    "# print(segment)"
   ]
  },
  {
   "cell_type": "markdown",
   "metadata": {},
   "source": [
    "## 读取停用词文件"
   ]
  },
  {
   "cell_type": "code",
   "execution_count": 2,
   "metadata": {
    "collapsed": true
   },
   "outputs": [],
   "source": [
    "# stopwords = pd.read_csv('C:/Users/Mars/Desktop/july/pachong/data/stopwords.txt',\n",
    "#                        index_col=False,quoting=3,sep='\\t',names=['stopword'],encoding='utf-8')"
   ]
  },
  {
   "cell_type": "markdown",
   "metadata": {},
   "source": [
    "## 过滤停用词"
   ]
  },
  {
   "cell_type": "code",
   "execution_count": 1,
   "metadata": {},
   "outputs": [],
   "source": [
    "# words_old = pd.DataFrame({'segment':segment})\n",
    "# print(words_old)\n",
    "# words_new=words_old[~words_old.segment.isin(stopwords.stopword)]\n",
    "# print(words_old)"
   ]
  },
  {
   "cell_type": "markdown",
   "metadata": {},
   "source": [
    "## 统计词频"
   ]
  },
  {
   "cell_type": "code",
   "execution_count": 17,
   "metadata": {},
   "outputs": [
    {
     "name": "stderr",
     "output_type": "stream",
     "text": [
      "D:\\tools\\anaconda3\\lib\\site-packages\\ipykernel_launcher.py:2: FutureWarning: using a dict on a Series for aggregation\n",
      "is deprecated and will be removed in a future version\n",
      "  \n"
     ]
    },
    {
     "data": {
      "text/html": [
       "<div>\n",
       "<style>\n",
       "    .dataframe thead tr:only-child th {\n",
       "        text-align: right;\n",
       "    }\n",
       "\n",
       "    .dataframe thead th {\n",
       "        text-align: left;\n",
       "    }\n",
       "\n",
       "    .dataframe tbody tr th {\n",
       "        vertical-align: top;\n",
       "    }\n",
       "</style>\n",
       "<table border=\"1\" class=\"dataframe\">\n",
       "  <thead>\n",
       "    <tr style=\"text-align: right;\">\n",
       "      <th></th>\n",
       "      <th>segment</th>\n",
       "      <th>未去停用词计数</th>\n",
       "    </tr>\n",
       "  </thead>\n",
       "  <tbody>\n",
       "    <tr>\n",
       "      <th>120</th>\n",
       "      <td>/x</td>\n",
       "      <td>605</td>\n",
       "    </tr>\n",
       "    <tr>\n",
       "      <th>1791</th>\n",
       "      <td>，/x</td>\n",
       "      <td>225</td>\n",
       "    </tr>\n",
       "    <tr>\n",
       "      <th>121</th>\n",
       "      <td>、/x</td>\n",
       "      <td>207</td>\n",
       "    </tr>\n",
       "    <tr>\n",
       "      <th>0</th>\n",
       "      <td>/x</td>\n",
       "      <td>121</td>\n",
       "    </tr>\n",
       "    <tr>\n",
       "      <th>1650</th>\n",
       "      <td>镇/n</td>\n",
       "      <td>89</td>\n",
       "    </tr>\n",
       "    <tr>\n",
       "      <th>1416</th>\n",
       "      <td>纪念馆/n</td>\n",
       "      <td>88</td>\n",
       "    </tr>\n",
       "    <tr>\n",
       "      <th>969</th>\n",
       "      <td>旧址/n</td>\n",
       "      <td>85</td>\n",
       "    </tr>\n",
       "    <tr>\n",
       "      <th>1789</th>\n",
       "      <td>（/x</td>\n",
       "      <td>70</td>\n",
       "    </tr>\n",
       "    <tr>\n",
       "      <th>992</th>\n",
       "      <td>景区/n</td>\n",
       "      <td>67</td>\n",
       "    </tr>\n",
       "    <tr>\n",
       "      <th>1409</th>\n",
       "      <td>红色旅游/nz</td>\n",
       "      <td>58</td>\n",
       "    </tr>\n",
       "    <tr>\n",
       "      <th>1389</th>\n",
       "      <td>系列/q</td>\n",
       "      <td>57</td>\n",
       "    </tr>\n",
       "    <tr>\n",
       "      <th>1790</th>\n",
       "      <td>）/x</td>\n",
       "      <td>53</td>\n",
       "    </tr>\n",
       "    <tr>\n",
       "      <th>1722</th>\n",
       "      <td>革命/vn</td>\n",
       "      <td>44</td>\n",
       "    </tr>\n",
       "    <tr>\n",
       "      <th>960</th>\n",
       "      <td>旅游/vn</td>\n",
       "      <td>43</td>\n",
       "    </tr>\n",
       "    <tr>\n",
       "      <th>1398</th>\n",
       "      <td>红军/n</td>\n",
       "      <td>42</td>\n",
       "    </tr>\n",
       "    <tr>\n",
       "      <th>1</th>\n",
       "      <td>%/x</td>\n",
       "      <td>40</td>\n",
       "    </tr>\n",
       "    <tr>\n",
       "      <th>122</th>\n",
       "      <td>。/x</td>\n",
       "      <td>40</td>\n",
       "    </tr>\n",
       "    <tr>\n",
       "      <th>7</th>\n",
       "      <td>1./m</td>\n",
       "      <td>33</td>\n",
       "    </tr>\n",
       "    <tr>\n",
       "      <th>48</th>\n",
       "      <td>2./m</td>\n",
       "      <td>32</td>\n",
       "    </tr>\n",
       "    <tr>\n",
       "      <th>522</th>\n",
       "      <td>和/c</td>\n",
       "      <td>32</td>\n",
       "    </tr>\n",
       "  </tbody>\n",
       "</table>\n",
       "</div>"
      ],
      "text/plain": [
       "      segment  未去停用词计数\n",
       "120       　/x      605\n",
       "1791      ，/x      225\n",
       "121       、/x      207\n",
       "0          /x      121\n",
       "1650      镇/n       89\n",
       "1416    纪念馆/n       88\n",
       "969      旧址/n       85\n",
       "1789      （/x       70\n",
       "992      景区/n       67\n",
       "1409  红色旅游/nz       58\n",
       "1389     系列/q       57\n",
       "1790      ）/x       53\n",
       "1722    革命/vn       44\n",
       "960     旅游/vn       43\n",
       "1398     红军/n       42\n",
       "1         %/x       40\n",
       "122       。/x       40\n",
       "7        1./m       33\n",
       "48       2./m       32\n",
       "522       和/c       32"
      ]
     },
     "execution_count": 17,
     "metadata": {},
     "output_type": "execute_result"
    }
   ],
   "source": [
    "words_old = pd.DataFrame({'segment':segment})\n",
    "words_stat=words_old.groupby(by=['segment'])['segment'].agg({\"未去停用词计数\":np.size})\n",
    "words_stat =words_stat.reset_index().sort_values(by=['未去停用词计数'],ascending=False)\n",
    "words_stat.head(20)"
   ]
  },
  {
   "cell_type": "code",
   "execution_count": 18,
   "metadata": {},
   "outputs": [],
   "source": [
    "# words_stat=words_new.groupby(by=['segment'])['segment'].agg({\"总体计数\":np.size})\n",
    "# words_stat =words_stat.reset_index().sort_values(by=['总体计数'],ascending=False)\n",
    "# words_stat.head(10)"
   ]
  },
  {
   "cell_type": "markdown",
   "metadata": {},
   "source": [
    "# 网络文本统计并且分类"
   ]
  },
  {
   "cell_type": "markdown",
   "metadata": {},
   "source": [
    "### 网络文本共100篇，包括旅游类，军事类，娱乐类，运动类，科技类，各20篇"
   ]
  },
  {
   "cell_type": "markdown",
   "metadata": {},
   "source": [
    "### 1.读取文件，转化成标准格式"
   ]
  },
  {
   "cell_type": "code",
   "execution_count": 9,
   "metadata": {
    "collapsed": true
   },
   "outputs": [],
   "source": [
    "import jieba\n",
    "import pandas as pd"
   ]
  },
  {
   "cell_type": "code",
   "execution_count": 13,
   "metadata": {
    "collapsed": true
   },
   "outputs": [],
   "source": [
    "df_technology = pd.read_csv('C:/Users/Mars/Desktop/july/pachong/data/technology.csv',encoding='utf-8')\n",
    "df_technology = df_technology.dropna()\n",
    "\n",
    "df_entertainment = pd.read_csv('C:/Users/Mars/Desktop/july/pachong/data/entertainment.csv',encoding='utf-8')\n",
    "df_entertainment = df_entertainment.dropna()\n",
    "\n",
    "df_military = pd.read_csv('C:/Users/Mars/Desktop/july/pachong/data/military.csv',encoding='utf-8')\n",
    "df_military = df_military.dropna()\n",
    "\n",
    "df_sport = pd.read_csv('C:/Users/Mars/Desktop/july/pachong/data/sports.csv',encoding='utf-8')\n",
    "df_sport = df_sport.dropna()\n",
    "\n",
    "df_tour = pd.read_csv('C:/Users/Mars/Desktop/july/pachong/data/tour.csv',encoding='utf-8')\n",
    "df_tour = df_tour.dropna()\n",
    "\n",
    "\n",
    "technology = df_technology.content.values.tolist()\n",
    "entertainment = df_entertainment.content.values.tolist()\n",
    "military = df_military.content.values.tolist()\n",
    "sport = df_sport.content.values.tolist()\n",
    "tour = df_tour.content.values.tolist()\n"
   ]
  },
  {
   "cell_type": "code",
   "execution_count": 14,
   "metadata": {},
   "outputs": [
    {
     "name": "stdout",
     "output_type": "stream",
     "text": [
      "据新华社报道，今年以来，河南白云山、浙江天台山以及宁夏、安徽等多地景区施行限期免票或永久免票，带动当地暑期游升温。对此，有专家指出，随着全域旅游时代到来，景区摆脱“门票依赖症”，以免费惠民、升级服务等方式吸引更多游客，是实现可持续发展的大势所趋。另有业内人士表示，目前国内门票价格机制仍不完善，周边配套消费尚未完全跟进，吃、住、娱、购质量有待提升。消费者在餐饮、购物等消费总体上还不足，导致部分景区门票收入占到游客在景区消费比重较大，一些景区仍然依靠收取门票这种景区最初期的经营模式生存。\n",
      "\n",
      "景区免票被赞“尊重市场”，网民纷纷叫好\n",
      "\n",
      "\t对于景区免票现象，楚天都市报评论员徐汉雄表示，这是尊重市场的必然举措。票价涨得太多太快，导致游客减少，收入不增反降。2017年上半年旅游业持续火爆，16家景区上市公司中，有近40%的公司业绩净利下滑。这也反映出一些传统景区发展进入瓶颈期，光靠涨价也扭转不了颓势。他还用西湖免费开放的案例表明，免票并不吃亏。西湖免费开放10年，保守估计少收门票收入逾两亿元，但旅游总收入实现翻倍。“免费西湖”降低了旅游成本，使餐饮、旅馆、零售等行业都获得新的发展空间，增加了城市的亲和力、吸引力，实现了经济、环境、社会和谐发展。\n",
      "\n",
      "\t在不少网民看来，景区免票更是大大的利好。网民“喜洋洋”说，为取消门票叫好！网民“玛瑙心儿珠宝文玩”说，免了门票，大伙去旅游能省下不少门票钱，同时因为游客增多而带动起其他产业的经济增长，值得点赞。\n",
      "\n",
      "旅游产业升级势在必行，景区免票只是起点\n",
      "\n",
      "\t北京大学城环学院旅游研究与规划中心主任吴必虎分析，近几年内，我国工业化、城市化将基本完成，信息技术、在线支付、人工智能发展背景下的人口就业压力增加，个性化、情感性消费需求将超过物质性消费需求。\n",
      "\n",
      "\t法制晚报胡建兵认为，景区免门票看似在做赔本买卖，但实际上，展现的却是一种新的旅游产业发展思路。用一张免掉的门票，撬动全域旅游升级模式，助推整个第三产业实现大发展。门票收入少了，但游客多了，包括餐饮、住宿、演出、旅游品的销售、交通运输、出租车等行业的消费都会被拉动。毕竟旅游门票收入在整个旅游消费当中的占比只是很小的一部分，而与旅游相关联的其它产业才是大头。\n",
      "\n",
      "\t辽宁社会科学院研究员张思宁表示， 景区实行低价门票政策或免门票，会吸引更多的旅游者游览，带动周边酒店、餐饮、购物、娱乐等各个产业，促进旅游消费，拉动旅游经济，实现真正的“大旅游经济”的发展。\n",
      "\n",
      "旅游业应更加注重游客体验，免票更要提质\n",
      "\n",
      "\t“零门票”并非简单的一免了之。中国社科院旅游研究中心特约研究员刘思敏认为，景区免费之后带来的辐射影响效应的大小，与景区所在城市的城市品位以及城市特色等关系密切。免费之后，景区与相关部门也应做好联动，确保免费后的旅游服务质量不下降，确保接待工作安全、有序。\n",
      "\n",
      "\t东方网评论称，相关景区实行免票后，特别是热门景区，势必会造成人满为患，庞大且持续增长的客流量，令景区在文物保护、古建维护、游客安全等方面承受巨大压力。旅游行政管理部门应尽早制订景区“限客”预警制度，对于“超载”现象及时进行干预。\n",
      "\n",
      "\t业内旅游专家认为，现在的游客越来越注重旅游景区景点的文化内涵和人文内涵，更加讲究精神层面的体验和感受，注重旅游项目的参与性，因此在旅游景区开发的过程中，还需要加强设计参与性旅游项目、开发休闲娱乐项目，发展体验式个性化旅游产品，逐步实现旅游产业供给侧的结构性升级。发展以观光旅游为基础、以休闲度假旅游为主导的综合性旅游产品体系，吸引更多的游客进入景区进行选择性消费，增强景区的吸引力。\n",
      "\n",
      "\n",
      "(责编：田虎、刘佳)\n"
     ]
    }
   ],
   "source": [
    "print(tour[9])"
   ]
  },
  {
   "cell_type": "code",
   "execution_count": 15,
   "metadata": {},
   "outputs": [
    {
     "name": "stdout",
     "output_type": "stream",
     "text": [
      "　　参赛球员中排名最高的中国球员王蔷当日表现神勇，用时74分钟便以6-2，6-3横扫俄罗斯球员罗迪娜。\n"
     ]
    }
   ],
   "source": [
    "print(sport[2])"
   ]
  },
  {
   "cell_type": "code",
   "execution_count": 16,
   "metadata": {},
   "outputs": [
    {
     "name": "stdout",
     "output_type": "stream",
     "text": [
      "　　,中新社,南海某海域1月2日电 (莫小亮)执行跨海区训练试验任务的中国海军航母编队2日在南海某海域组织了歼-15舰载战斗机起降和编队等多科目训练。\n"
     ]
    }
   ],
   "source": [
    "print(military[19])"
   ]
  },
  {
   "cell_type": "markdown",
   "metadata": {},
   "source": [
    "### 2.分析与中文处理"
   ]
  },
  {
   "cell_type": "markdown",
   "metadata": {},
   "source": [
    "#### 读取停用词"
   ]
  },
  {
   "cell_type": "code",
   "execution_count": 17,
   "metadata": {
    "collapsed": true
   },
   "outputs": [],
   "source": [
    "stopwords = pd.read_csv('C:/Users/Mars/Desktop/july/pachong/data/stopwords.txt',\n",
    "                       index_col=False,quoting=3,sep='\\t',names=['stopword'],encoding='utf-8')\n",
    "stopwords = stopwords['stopword'].values"
   ]
  },
  {
   "cell_type": "markdown",
   "metadata": {},
   "source": [
    "#### 去停用词"
   ]
  },
  {
   "cell_type": "code",
   "execution_count": 20,
   "metadata": {
    "collapsed": true
   },
   "outputs": [],
   "source": [
    "def preprocess_text(content_lines,sentences,category):\n",
    "    for line in content_lines:\n",
    "        try:\n",
    "            segs = jieba.lcut(line)\n",
    "            segs = filter(lambda x:len(x)>1,segs)\n",
    "            segs = filter(lambda x:x not in stopwords,segs)\n",
    "            sentences.append((\" \".join(segs),category))\n",
    "        except:\n",
    "            print(line)\n",
    "            continue"
   ]
  },
  {
   "cell_type": "markdown",
   "metadata": {},
   "source": [
    "#### 生成训练数据"
   ]
  },
  {
   "cell_type": "code",
   "execution_count": 21,
   "metadata": {
    "collapsed": true
   },
   "outputs": [],
   "source": [
    "sentences = []\n",
    "preprocess_text(technology,sentences,'technology')\n",
    "preprocess_text(entertainment,sentences,'entertainment')\n",
    "preprocess_text(military,sentences,'military')\n",
    "preprocess_text(sport,sentences,'sport')\n",
    "preprocess_text(tour,sentences,'tour')"
   ]
  },
  {
   "cell_type": "markdown",
   "metadata": {},
   "source": [
    "#### 生成训练集（打乱文本位置）"
   ]
  },
  {
   "cell_type": "code",
   "execution_count": 22,
   "metadata": {
    "collapsed": true
   },
   "outputs": [],
   "source": [
    "import random\n",
    "random.shuffle(sentences)"
   ]
  },
  {
   "cell_type": "code",
   "execution_count": 24,
   "metadata": {},
   "outputs": [
    {
     "name": "stdout",
     "output_type": "stream",
     "text": [
      "标题 九只 梅花鹿 亮相 北京故宫博物院 梅花鹿 亮相 北京故宫博物院 雄鹿 雌鹿 子鹿 承德市 文物局 故宫博物院 2017 日至 2018 月底 故宫博物院 慈宁宫 花园 举办 承德避暑山庄 野生 梅花鹿 展览 确保 鹿只 展览 顺利进行 选派 一名 经验丰富 管理人员 一名 兽医 随行 中新社 杜洋 责编 魏欣宁 刘佳 tour\n",
      "教训 entertainment\n",
      "近日 内蒙古自治区 呼伦贝尔草原 秋意 显现 美丽 如画 图为 呼伦贝尔草原 成群 牛羊 悠闲地 荣光 责编 魏欣宁 刘佳 tour\n",
      "王大卫 实际上 办赛方 希望 赛事 办好 提供 周到 细致 服务 经验 缺乏 sport\n",
      "综艺 井喷 一年 中国 网络 视听 发展 研究 报告 数据 显示 视频 网站 备案 网络 综艺 618 6637 可谓 当之无愧 网络 综艺 黄金 爆款 网综 奇葩 第三季 延续 火热 火星 情报局 拜托 冰箱 网络 综艺 点击率 不俗 口碑 网络 综艺 现象 差距 entertainment\n"
     ]
    }
   ],
   "source": [
    "for sentence in sentences[:5]:\n",
    "    print(sentence[0],sentence[1])"
   ]
  },
  {
   "cell_type": "markdown",
   "metadata": {},
   "source": [
    "#### 切分数据集"
   ]
  },
  {
   "cell_type": "code",
   "execution_count": 25,
   "metadata": {
    "collapsed": true
   },
   "outputs": [],
   "source": [
    "from sklearn.model_selection import train_test_split\n",
    "x,y = zip(*sentences)\n",
    "x_train,x_test,y_train,y_test = train_test_split(x,y,train_size=0.8)"
   ]
  },
  {
   "cell_type": "code",
   "execution_count": 26,
   "metadata": {},
   "outputs": [
    {
     "data": {
      "text/plain": [
       "(80, 20)"
      ]
     },
     "execution_count": 26,
     "metadata": {},
     "output_type": "execute_result"
    }
   ],
   "source": [
    "len(x_train),len(x_test)"
   ]
  },
  {
   "cell_type": "markdown",
   "metadata": {},
   "source": [
    "#### 使用词袋模型对文本抽取特征,默认是unigram，加入2-gram,3-gram"
   ]
  },
  {
   "cell_type": "code",
   "execution_count": 27,
   "metadata": {
    "collapsed": true
   },
   "outputs": [],
   "source": [
    "from sklearn.feature_extraction.text import CountVectorizer\n",
    "\n",
    "vec = CountVectorizer(\n",
    "    analyzer = 'word',\n",
    "    ngram_range=(1,4),\n",
    "    max_features = 1000,\n",
    "    )\n",
    "\n",
    "vec.fit(x_train)\n",
    "\n",
    "def get_features(x):\n",
    "    vec.transform(x)"
   ]
  },
  {
   "cell_type": "markdown",
   "metadata": {},
   "source": [
    "#### 使用模型进行训练(朴素贝叶斯)"
   ]
  },
  {
   "cell_type": "code",
   "execution_count": 28,
   "metadata": {},
   "outputs": [
    {
     "data": {
      "text/plain": [
       "MultinomialNB(alpha=1.0, class_prior=None, fit_prior=True)"
      ]
     },
     "execution_count": 28,
     "metadata": {},
     "output_type": "execute_result"
    }
   ],
   "source": [
    "from sklearn.naive_bayes import MultinomialNB\n",
    "classifier = MultinomialNB()\n",
    "classifier.fit(vec.transform(x_train),y_train)"
   ]
  },
  {
   "cell_type": "markdown",
   "metadata": {},
   "source": [
    "#### 查看结果"
   ]
  },
  {
   "cell_type": "code",
   "execution_count": 29,
   "metadata": {},
   "outputs": [
    {
     "data": {
      "text/plain": [
       "1.0"
      ]
     },
     "execution_count": 29,
     "metadata": {},
     "output_type": "execute_result"
    }
   ],
   "source": [
    "classifier.score(vec.transform(x_test),y_test)"
   ]
  },
  {
   "cell_type": "code",
   "execution_count": 30,
   "metadata": {},
   "outputs": [
    {
     "data": {
      "text/plain": [
       "20"
      ]
     },
     "execution_count": 30,
     "metadata": {},
     "output_type": "execute_result"
    }
   ],
   "source": [
    "len(x_test)"
   ]
  },
  {
   "cell_type": "code",
   "execution_count": 31,
   "metadata": {
    "collapsed": true
   },
   "outputs": [],
   "source": [
    "data = ['旧址 纪念馆 景区 遗址 红色旅游 系列 革命 烈士陵园']"
   ]
  },
  {
   "cell_type": "code",
   "execution_count": 32,
   "metadata": {},
   "outputs": [
    {
     "data": {
      "text/plain": [
       "array(['tour'], \n",
       "      dtype='<U13')"
      ]
     },
     "execution_count": 32,
     "metadata": {},
     "output_type": "execute_result"
    }
   ],
   "source": [
    "classifier.predict(vec.transform(data))"
   ]
  },
  {
   "cell_type": "code",
   "execution_count": null,
   "metadata": {
    "collapsed": true
   },
   "outputs": [],
   "source": []
  }
 ],
 "metadata": {
  "kernelspec": {
   "display_name": "Python 3",
   "language": "python",
   "name": "python3"
  },
  "language_info": {
   "codemirror_mode": {
    "name": "ipython",
    "version": 3
   },
   "file_extension": ".py",
   "mimetype": "text/x-python",
   "name": "python",
   "nbconvert_exporter": "python",
   "pygments_lexer": "ipython3",
   "version": "3.6.1"
  }
 },
 "nbformat": 4,
 "nbformat_minor": 2
}
